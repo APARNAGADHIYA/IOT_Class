{
  "nbformat": 4,
  "nbformat_minor": 0,
  "metadata": {
    "colab": {
      "name": "Implementing_Gesture_Classifier.ipynb",
      "provenance": [],
      "collapsed_sections": [],
      "authorship_tag": "ABX9TyPV59cIRewgs3aIghbFlHzs",
      "include_colab_link": true
    },
    "kernelspec": {
      "name": "python3",
      "display_name": "Python 3"
    }
  },
  "cells": [
    {
      "cell_type": "markdown",
      "metadata": {
        "id": "view-in-github",
        "colab_type": "text"
      },
      "source": [
        "<a href=\"https://colab.research.google.com/github/APARNAGADHIYA/IOT_Class/blob/main/Implementing_Gesture_Classifier.ipynb\" target=\"_parent\"><img src=\"https://colab.research.google.com/assets/colab-badge.svg\" alt=\"Open In Colab\"/></a>"
      ]
    },
    {
      "cell_type": "code",
      "metadata": {
        "id": "qadVeGUapHOR"
      },
      "source": [
        "import tensorflow as tf\r\n",
        "import numpy as np\r\n",
        "import pandas as pd\r\n",
        "from matplotlib import pyplot as plt\r\n",
        "import seaborn as sns\r\n",
        "from sklearn.model_selection import train_test_split"
      ],
      "execution_count": 1,
      "outputs": []
    },
    {
      "cell_type": "code",
      "metadata": {
        "id": "ZnLzs2lZFHSB"
      },
      "source": [
        ""
      ],
      "execution_count": 1,
      "outputs": []
    },
    {
      "cell_type": "code",
      "metadata": {
        "colab": {
          "base_uri": "https://localhost:8080/"
        },
        "id": "S3MoCmbyFLzM",
        "outputId": "dd469f67-8ef6-4cfc-d246-e86b1c152aaa"
      },
      "source": [
        "from google.colab import drive\n",
        "drive.mount('/content/drive')"
      ],
      "execution_count": 3,
      "outputs": [
        {
          "output_type": "stream",
          "text": [
            "Mounted at /content/drive\n"
          ],
          "name": "stdout"
        }
      ]
    },
    {
      "cell_type": "code",
      "metadata": {
        "id": "TgYHlrPYp5f6"
      },
      "source": [
        "jump =pd.read_csv(\"https://raw.githubusercontent.com/UNCG-DAISY/Tiny_Gesture/main/data/jump_set.csv\")\r\n",
        "run =pd.read_csv(\"https://raw.githubusercontent.com/UNCG-DAISY/Tiny_Gesture/main/data/run_set.csv\")\r\n",
        "squat =pd.read_csv(\"https://raw.githubusercontent.com/UNCG-DAISY/Tiny_Gesture/main/data/squat_set.csv\")\r\n",
        "walk =pd.read_csv(\"https://raw.githubusercontent.com/UNCG-DAISY/Tiny_Gesture/main/data/walk_set.csv\")\r\n",
        "other =pd.read_csv(\"https://raw.githubusercontent.com/UNCG-DAISY/Tiny_Gesture/main/data/other_set.csv\")\r\n"
      ],
      "execution_count": 9,
      "outputs": []
    },
    {
      "cell_type": "code",
      "metadata": {
        "id": "xZOcBRS63KDO"
      },
      "source": [
        ""
      ],
      "execution_count": null,
      "outputs": []
    },
    {
      "cell_type": "code",
      "metadata": {
        "colab": {
          "base_uri": "https://localhost:8080/"
        },
        "id": "SLpBXxCvsZxG",
        "outputId": "c6b327a8-d6fe-4783-8984-d1f654415aaf"
      },
      "source": [
        "jump.shape"
      ],
      "execution_count": null,
      "outputs": [
        {
          "output_type": "execute_result",
          "data": {
            "text/plain": [
              "(11900, 6)"
            ]
          },
          "metadata": {
            "tags": []
          },
          "execution_count": 10
        }
      ]
    },
    {
      "cell_type": "code",
      "metadata": {
        "colab": {
          "base_uri": "https://localhost:8080/"
        },
        "id": "Ii2sVTdfshSc",
        "outputId": "1a4a46c3-d86a-4338-9b66-da83105d7072"
      },
      "source": [
        "run.shape"
      ],
      "execution_count": null,
      "outputs": [
        {
          "output_type": "execute_result",
          "data": {
            "text/plain": [
              "(11900, 6)"
            ]
          },
          "metadata": {
            "tags": []
          },
          "execution_count": 11
        }
      ]
    },
    {
      "cell_type": "code",
      "metadata": {
        "id": "BVk2hjRQtpUZ"
      },
      "source": [
        "GESTURES=[\"squat_set\",\"jump_set\",\"walk_set\",\"run_set\",\"other_set\"]"
      ],
      "execution_count": null,
      "outputs": []
    },
    {
      "cell_type": "code",
      "metadata": {
        "id": "dPTnV14LuL7y"
      },
      "source": [
        "SAMPLES_PER_GESTURE=119\r\n",
        "NUM_GESTURES =len(GESTURES)"
      ],
      "execution_count": null,
      "outputs": []
    },
    {
      "cell_type": "code",
      "metadata": {
        "id": "Qp7UpxZOIqPm"
      },
      "source": [
        "ONE_HOT_ENCODED_GESTURES = np.eye(NUM_GESTURES)\r\n",
        "dft=[jump,run,squat,walk,other]\r\n",
        "inputs =[]\r\n",
        "outputs =[]"
      ],
      "execution_count": null,
      "outputs": []
    },
    {
      "cell_type": "code",
      "metadata": {
        "colab": {
          "base_uri": "https://localhost:8080/"
        },
        "id": "1lPSes4aKI5r",
        "outputId": "d6532171-1887-471c-edb2-fd01d4e2c275"
      },
      "source": [
        "#Read each csv file and push an input and output\r\n",
        "for gesture_index in range(NUM_GESTURES):\r\n",
        "  gesture=GESTURES[gesture_index]\r\n",
        "  print(\"Processing index\",{gesture_index},\"for gesture\",{gesture},\".\")\r\n",
        "  output=ONE_HOT_ENCODED_GESTURES[gesture_index]\r\n",
        "  print(output)\r\n",
        "  df=dft[gesture_index]\r\n",
        "\r\n",
        "  # Calculate the number of gesture recorings in the file\r\n",
        "  num_recordings= int(df.shape[0]/SAMPLES_PER_GESTURE)\r\n",
        "  print(\"\\t There are\",{num_recordings}, \"recordings of the\",{gesture},\"gesture.\")\r\n",
        "\r\n",
        "  for i in range (num_recordings):\r\n",
        "    tensor = []\r\n",
        "    for j in range(SAMPLES_PER_GESTURE):\r\n",
        "      index = i*SAMPLES_PER_GESTURE + j\r\n",
        "      # Normalise the input data between 0 to 1\r\n",
        "      # Acceleration is betwwen: -4 to +4\r\n",
        "      # Gyroscope is between: -2000 to +2000\r\n",
        "      tensor += [(df['aX'][index] + 4) / 8,\r\n",
        "                (df['aY'][index] + 4) / 8,\r\n",
        "                (df['aZ'][index] + 4) / 8,\r\n",
        "                (df['gX'][index] + 2000) / 4000,\r\n",
        "                (df['gY'][index] + 2000) / 4000,\r\n",
        "                (df['gZ'][index] + 2000) / 4000\r\n",
        "      ]\r\n",
        "\r\n",
        "    inputs.append(tensor)\r\n",
        "    outputs.append(output)  \r\n",
        "# convert  the list to numpy array\r\n",
        "inputs = np.array(inputs) \r\n",
        "outputs = np.array(outputs)\r\n",
        "\r\n",
        "print(\"Data Set Parsing and Preparation Complete\")"
      ],
      "execution_count": null,
      "outputs": [
        {
          "output_type": "stream",
          "text": [
            "Processing index {0} for gesture {'squat_set'} .\n",
            "[1. 0. 0. 0. 0.]\n",
            "\t There are {100} recordings of the {'squat_set'} gesture.\n",
            "Processing index {1} for gesture {'jump_set'} .\n",
            "[0. 1. 0. 0. 0.]\n",
            "\t There are {100} recordings of the {'jump_set'} gesture.\n",
            "Processing index {2} for gesture {'walk_set'} .\n",
            "[0. 0. 1. 0. 0.]\n",
            "\t There are {100} recordings of the {'walk_set'} gesture.\n",
            "Processing index {3} for gesture {'run_set'} .\n",
            "[0. 0. 0. 1. 0.]\n",
            "\t There are {100} recordings of the {'run_set'} gesture.\n",
            "Processing index {4} for gesture {'other_set'} .\n",
            "[0. 0. 0. 0. 1.]\n",
            "\t There are {100} recordings of the {'other_set'} gesture.\n",
            "Data Set Parsing and Preparation Complete\n"
          ],
          "name": "stdout"
        }
      ]
    },
    {
      "cell_type": "code",
      "metadata": {
        "id": "cpX8oKzQbziB"
      },
      "source": [
        "input_shape = inputs[0].shape"
      ],
      "execution_count": null,
      "outputs": []
    },
    {
      "cell_type": "code",
      "metadata": {
        "id": "DMmOMV3JcDdg"
      },
      "source": [
        "X_train, X_test, y_train, y_test = train_test_split(inputs, outputs, test_size=0.2, random_state=42)"
      ],
      "execution_count": null,
      "outputs": []
    },
    {
      "cell_type": "code",
      "metadata": {
        "id": "zhz3sYwRckbf"
      },
      "source": [
        "model = tf.keras.Sequential(\r\n",
        "    [\r\n",
        "    tf.keras.layers.Dense(512,input_shape=input_shape, activation=\"relu\"),\r\n",
        "     tf.keras.layers.Dense(256, activation=\"relu\"),\r\n",
        "     #tf.keras.layers.Dense(128, activation=\"relu\"),\r\n",
        "     # tf.keras.layers.Dense(64, activation=\"relu\"),\r\n",
        "     tf.keras.layers.Dropout(.1),\r\n",
        "     # tf.keras.layers.Dense(256, activation=\"relu\"),\r\n",
        "     tf.keras.layers.Dense(128, activation=\"relu\"),\r\n",
        "     tf.keras.layers.Dense(64, activation=\"relu\"),\r\n",
        "     tf.keras.layers.Dropout(.1),\r\n",
        "     tf.keras.layers.Flatten(),\r\n",
        "     tf.keras.layers.Dense(5,activation='sigmoid')\r\n",
        "                             \r\n",
        "])"
      ],
      "execution_count": null,
      "outputs": []
    },
    {
      "cell_type": "code",
      "metadata": {
        "id": "zwP38fHoek3v"
      },
      "source": [
        "model.compile(optimizer=\"adam\",\r\n",
        "              loss= 'categorical_crossentropy',\r\n",
        "              metrics =['accuracy'])"
      ],
      "execution_count": null,
      "outputs": []
    },
    {
      "cell_type": "code",
      "metadata": {
        "colab": {
          "base_uri": "https://localhost:8080/"
        },
        "id": "8_NHH6MufQdl",
        "outputId": "ac7aa639-8938-449a-ef97-9efc89d99445"
      },
      "source": [
        "model.summary()"
      ],
      "execution_count": null,
      "outputs": [
        {
          "output_type": "stream",
          "text": [
            "Model: \"sequential_11\"\n",
            "_________________________________________________________________\n",
            "Layer (type)                 Output Shape              Param #   \n",
            "=================================================================\n",
            "dense_64 (Dense)             (None, 512)               366080    \n",
            "_________________________________________________________________\n",
            "dense_65 (Dense)             (None, 256)               131328    \n",
            "_________________________________________________________________\n",
            "dropout_22 (Dropout)         (None, 256)               0         \n",
            "_________________________________________________________________\n",
            "dense_66 (Dense)             (None, 128)               32896     \n",
            "_________________________________________________________________\n",
            "dense_67 (Dense)             (None, 64)                8256      \n",
            "_________________________________________________________________\n",
            "dropout_23 (Dropout)         (None, 64)                0         \n",
            "_________________________________________________________________\n",
            "flatten_11 (Flatten)         (None, 64)                0         \n",
            "_________________________________________________________________\n",
            "dense_68 (Dense)             (None, 5)                 325       \n",
            "=================================================================\n",
            "Total params: 538,885\n",
            "Trainable params: 538,885\n",
            "Non-trainable params: 0\n",
            "_________________________________________________________________\n"
          ],
          "name": "stdout"
        }
      ]
    },
    {
      "cell_type": "code",
      "metadata": {
        "colab": {
          "base_uri": "https://localhost:8080/"
        },
        "id": "77DroAFbfluo",
        "outputId": "f9667749-3763-4cbd-ec93-90aec3920c9d"
      },
      "source": [
        "model.fit(X_train, y_train, \r\n",
        "          epochs= 100, \r\n",
        "          validation_split= 0.2, \r\n",
        "          batch_size= 10, \r\n",
        "          verbose=True)"
      ],
      "execution_count": null,
      "outputs": [
        {
          "output_type": "stream",
          "text": [
            "Epoch 1/100\n",
            "32/32 [==============================] - 1s 9ms/step - loss: 1.6554 - accuracy: 0.2489 - val_loss: 1.6427 - val_accuracy: 0.2250\n",
            "Epoch 2/100\n",
            "32/32 [==============================] - 0s 5ms/step - loss: 1.6873 - accuracy: 0.1977 - val_loss: 1.6039 - val_accuracy: 0.1750\n",
            "Epoch 3/100\n",
            "32/32 [==============================] - 0s 5ms/step - loss: 1.6306 - accuracy: 0.2150 - val_loss: 1.6275 - val_accuracy: 0.1625\n",
            "Epoch 4/100\n",
            "32/32 [==============================] - 0s 5ms/step - loss: 1.6104 - accuracy: 0.2564 - val_loss: 1.6095 - val_accuracy: 0.3625\n",
            "Epoch 5/100\n",
            "32/32 [==============================] - 0s 5ms/step - loss: 1.6087 - accuracy: 0.2439 - val_loss: 1.6057 - val_accuracy: 0.3375\n",
            "Epoch 6/100\n",
            "32/32 [==============================] - 0s 5ms/step - loss: 1.5831 - accuracy: 0.2602 - val_loss: 1.6366 - val_accuracy: 0.1625\n",
            "Epoch 7/100\n",
            "32/32 [==============================] - 0s 5ms/step - loss: 1.5877 - accuracy: 0.2529 - val_loss: 1.5825 - val_accuracy: 0.2125\n",
            "Epoch 8/100\n",
            "32/32 [==============================] - 0s 4ms/step - loss: 1.5836 - accuracy: 0.2701 - val_loss: 1.4927 - val_accuracy: 0.3375\n",
            "Epoch 9/100\n",
            "32/32 [==============================] - 0s 5ms/step - loss: 1.4796 - accuracy: 0.3653 - val_loss: 1.3635 - val_accuracy: 0.3750\n",
            "Epoch 10/100\n",
            "32/32 [==============================] - 0s 5ms/step - loss: 1.3708 - accuracy: 0.3484 - val_loss: 1.3461 - val_accuracy: 0.2125\n",
            "Epoch 11/100\n",
            "32/32 [==============================] - 0s 5ms/step - loss: 1.3129 - accuracy: 0.3649 - val_loss: 1.2290 - val_accuracy: 0.5000\n",
            "Epoch 12/100\n",
            "32/32 [==============================] - 0s 5ms/step - loss: 1.3541 - accuracy: 0.3453 - val_loss: 1.2042 - val_accuracy: 0.3875\n",
            "Epoch 13/100\n",
            "32/32 [==============================] - 0s 5ms/step - loss: 1.3913 - accuracy: 0.3710 - val_loss: 1.2016 - val_accuracy: 0.5125\n",
            "Epoch 14/100\n",
            "32/32 [==============================] - 0s 5ms/step - loss: 1.3304 - accuracy: 0.4228 - val_loss: 1.1523 - val_accuracy: 0.5000\n",
            "Epoch 15/100\n",
            "32/32 [==============================] - 0s 5ms/step - loss: 1.2866 - accuracy: 0.4666 - val_loss: 1.2086 - val_accuracy: 0.4125\n",
            "Epoch 16/100\n",
            "32/32 [==============================] - 0s 5ms/step - loss: 1.1854 - accuracy: 0.4966 - val_loss: 1.2436 - val_accuracy: 0.3875\n",
            "Epoch 17/100\n",
            "32/32 [==============================] - 0s 5ms/step - loss: 1.2907 - accuracy: 0.4184 - val_loss: 1.0273 - val_accuracy: 0.6250\n",
            "Epoch 18/100\n",
            "32/32 [==============================] - 0s 5ms/step - loss: 1.0532 - accuracy: 0.5468 - val_loss: 1.2601 - val_accuracy: 0.5000\n",
            "Epoch 19/100\n",
            "32/32 [==============================] - 0s 4ms/step - loss: 1.0451 - accuracy: 0.5453 - val_loss: 0.9145 - val_accuracy: 0.5500\n",
            "Epoch 20/100\n",
            "32/32 [==============================] - 0s 5ms/step - loss: 0.9388 - accuracy: 0.5745 - val_loss: 0.8701 - val_accuracy: 0.6750\n",
            "Epoch 21/100\n",
            "32/32 [==============================] - 0s 6ms/step - loss: 1.0240 - accuracy: 0.5520 - val_loss: 1.1244 - val_accuracy: 0.4625\n",
            "Epoch 22/100\n",
            "32/32 [==============================] - 0s 5ms/step - loss: 0.9702 - accuracy: 0.5351 - val_loss: 0.9171 - val_accuracy: 0.6000\n",
            "Epoch 23/100\n",
            "32/32 [==============================] - 0s 5ms/step - loss: 0.9077 - accuracy: 0.6598 - val_loss: 0.9791 - val_accuracy: 0.5125\n",
            "Epoch 24/100\n",
            "32/32 [==============================] - 0s 5ms/step - loss: 0.8222 - accuracy: 0.6120 - val_loss: 0.8985 - val_accuracy: 0.5375\n",
            "Epoch 25/100\n",
            "32/32 [==============================] - 0s 5ms/step - loss: 0.7495 - accuracy: 0.6630 - val_loss: 0.6623 - val_accuracy: 0.7000\n",
            "Epoch 26/100\n",
            "32/32 [==============================] - 0s 5ms/step - loss: 0.6554 - accuracy: 0.6360 - val_loss: 0.6263 - val_accuracy: 0.7125\n",
            "Epoch 27/100\n",
            "32/32 [==============================] - 0s 5ms/step - loss: 0.5790 - accuracy: 0.7209 - val_loss: 0.6591 - val_accuracy: 0.6500\n",
            "Epoch 28/100\n",
            "32/32 [==============================] - 0s 5ms/step - loss: 0.5642 - accuracy: 0.7447 - val_loss: 0.6292 - val_accuracy: 0.7125\n",
            "Epoch 29/100\n",
            "32/32 [==============================] - 0s 5ms/step - loss: 0.6797 - accuracy: 0.7582 - val_loss: 0.6884 - val_accuracy: 0.7000\n",
            "Epoch 30/100\n",
            "32/32 [==============================] - 0s 5ms/step - loss: 0.8196 - accuracy: 0.6532 - val_loss: 0.8723 - val_accuracy: 0.6750\n",
            "Epoch 31/100\n",
            "32/32 [==============================] - 0s 5ms/step - loss: 0.7636 - accuracy: 0.6547 - val_loss: 0.8399 - val_accuracy: 0.6125\n",
            "Epoch 32/100\n",
            "32/32 [==============================] - 0s 5ms/step - loss: 0.6400 - accuracy: 0.7316 - val_loss: 0.5763 - val_accuracy: 0.8000\n",
            "Epoch 33/100\n",
            "32/32 [==============================] - 0s 5ms/step - loss: 0.6041 - accuracy: 0.7212 - val_loss: 1.1856 - val_accuracy: 0.5375\n",
            "Epoch 34/100\n",
            "32/32 [==============================] - 0s 5ms/step - loss: 0.6389 - accuracy: 0.6890 - val_loss: 0.7728 - val_accuracy: 0.6250\n",
            "Epoch 35/100\n",
            "32/32 [==============================] - 0s 5ms/step - loss: 0.5096 - accuracy: 0.7617 - val_loss: 0.7937 - val_accuracy: 0.7125\n",
            "Epoch 36/100\n",
            "32/32 [==============================] - 0s 5ms/step - loss: 0.5742 - accuracy: 0.7306 - val_loss: 0.5793 - val_accuracy: 0.6750\n",
            "Epoch 37/100\n",
            "32/32 [==============================] - 0s 4ms/step - loss: 0.5964 - accuracy: 0.7700 - val_loss: 0.5520 - val_accuracy: 0.7750\n",
            "Epoch 38/100\n",
            "32/32 [==============================] - 0s 5ms/step - loss: 0.6385 - accuracy: 0.6965 - val_loss: 0.5964 - val_accuracy: 0.7250\n",
            "Epoch 39/100\n",
            "32/32 [==============================] - 0s 5ms/step - loss: 0.5518 - accuracy: 0.7234 - val_loss: 0.7377 - val_accuracy: 0.6375\n",
            "Epoch 40/100\n",
            "32/32 [==============================] - 0s 5ms/step - loss: 0.4843 - accuracy: 0.7448 - val_loss: 0.5463 - val_accuracy: 0.8125\n",
            "Epoch 41/100\n",
            "32/32 [==============================] - 0s 5ms/step - loss: 0.6311 - accuracy: 0.7285 - val_loss: 0.6307 - val_accuracy: 0.8000\n",
            "Epoch 42/100\n",
            "32/32 [==============================] - 0s 5ms/step - loss: 0.4354 - accuracy: 0.8518 - val_loss: 0.6055 - val_accuracy: 0.8375\n",
            "Epoch 43/100\n",
            "32/32 [==============================] - 0s 5ms/step - loss: 0.4057 - accuracy: 0.8496 - val_loss: 0.7206 - val_accuracy: 0.7875\n",
            "Epoch 44/100\n",
            "32/32 [==============================] - 0s 5ms/step - loss: 0.5563 - accuracy: 0.7521 - val_loss: 0.7710 - val_accuracy: 0.6125\n",
            "Epoch 45/100\n",
            "32/32 [==============================] - 0s 5ms/step - loss: 0.6864 - accuracy: 0.7277 - val_loss: 0.6143 - val_accuracy: 0.8000\n",
            "Epoch 46/100\n",
            "32/32 [==============================] - 0s 10ms/step - loss: 0.4177 - accuracy: 0.8186 - val_loss: 0.5656 - val_accuracy: 0.8000\n",
            "Epoch 47/100\n",
            "32/32 [==============================] - 0s 5ms/step - loss: 0.5042 - accuracy: 0.7839 - val_loss: 0.5511 - val_accuracy: 0.8250\n",
            "Epoch 48/100\n",
            "32/32 [==============================] - 0s 5ms/step - loss: 0.4864 - accuracy: 0.7652 - val_loss: 0.5912 - val_accuracy: 0.7750\n",
            "Epoch 49/100\n",
            "32/32 [==============================] - 0s 5ms/step - loss: 0.4660 - accuracy: 0.7851 - val_loss: 0.5423 - val_accuracy: 0.8500\n",
            "Epoch 50/100\n",
            "32/32 [==============================] - 0s 5ms/step - loss: 0.8391 - accuracy: 0.6869 - val_loss: 0.5673 - val_accuracy: 0.8125\n",
            "Epoch 51/100\n",
            "32/32 [==============================] - 0s 5ms/step - loss: 0.3912 - accuracy: 0.8383 - val_loss: 0.5272 - val_accuracy: 0.8250\n",
            "Epoch 52/100\n",
            "32/32 [==============================] - 0s 5ms/step - loss: 0.4164 - accuracy: 0.8116 - val_loss: 0.5434 - val_accuracy: 0.7375\n",
            "Epoch 53/100\n",
            "32/32 [==============================] - 0s 5ms/step - loss: 0.3815 - accuracy: 0.8351 - val_loss: 0.5692 - val_accuracy: 0.8000\n",
            "Epoch 54/100\n",
            "32/32 [==============================] - 0s 5ms/step - loss: 0.3656 - accuracy: 0.8501 - val_loss: 0.6633 - val_accuracy: 0.8000\n",
            "Epoch 55/100\n",
            "32/32 [==============================] - 0s 4ms/step - loss: 0.3966 - accuracy: 0.8032 - val_loss: 1.4338 - val_accuracy: 0.5625\n",
            "Epoch 56/100\n",
            "32/32 [==============================] - 0s 5ms/step - loss: 0.6590 - accuracy: 0.7129 - val_loss: 0.8431 - val_accuracy: 0.6875\n",
            "Epoch 57/100\n",
            "32/32 [==============================] - 0s 5ms/step - loss: 0.6168 - accuracy: 0.7397 - val_loss: 0.8341 - val_accuracy: 0.6750\n",
            "Epoch 58/100\n",
            "32/32 [==============================] - 0s 5ms/step - loss: 0.4222 - accuracy: 0.8132 - val_loss: 0.6317 - val_accuracy: 0.7875\n",
            "Epoch 59/100\n",
            "32/32 [==============================] - 0s 5ms/step - loss: 0.4359 - accuracy: 0.7970 - val_loss: 0.6613 - val_accuracy: 0.8125\n",
            "Epoch 60/100\n",
            "32/32 [==============================] - 0s 5ms/step - loss: 0.3925 - accuracy: 0.8066 - val_loss: 0.7529 - val_accuracy: 0.7875\n",
            "Epoch 61/100\n",
            "32/32 [==============================] - 0s 5ms/step - loss: 0.6030 - accuracy: 0.7577 - val_loss: 0.5428 - val_accuracy: 0.8500\n",
            "Epoch 62/100\n",
            "32/32 [==============================] - 0s 5ms/step - loss: 0.3844 - accuracy: 0.8282 - val_loss: 0.5785 - val_accuracy: 0.7875\n",
            "Epoch 63/100\n",
            "32/32 [==============================] - 0s 5ms/step - loss: 0.3870 - accuracy: 0.8040 - val_loss: 0.7172 - val_accuracy: 0.7750\n",
            "Epoch 64/100\n",
            "32/32 [==============================] - 0s 5ms/step - loss: 0.4961 - accuracy: 0.7331 - val_loss: 0.6645 - val_accuracy: 0.8000\n",
            "Epoch 65/100\n",
            "32/32 [==============================] - 0s 5ms/step - loss: 0.4604 - accuracy: 0.7571 - val_loss: 0.5430 - val_accuracy: 0.8500\n",
            "Epoch 66/100\n",
            "32/32 [==============================] - 0s 6ms/step - loss: 0.3486 - accuracy: 0.8608 - val_loss: 0.6554 - val_accuracy: 0.8125\n",
            "Epoch 67/100\n",
            "32/32 [==============================] - 0s 5ms/step - loss: 0.3076 - accuracy: 0.8772 - val_loss: 0.5959 - val_accuracy: 0.8250\n",
            "Epoch 68/100\n",
            "32/32 [==============================] - 0s 5ms/step - loss: 0.2357 - accuracy: 0.8958 - val_loss: 0.8569 - val_accuracy: 0.7500\n",
            "Epoch 69/100\n",
            "32/32 [==============================] - 0s 5ms/step - loss: 0.4321 - accuracy: 0.8402 - val_loss: 0.5744 - val_accuracy: 0.7875\n",
            "Epoch 70/100\n",
            "32/32 [==============================] - 0s 5ms/step - loss: 0.3128 - accuracy: 0.8434 - val_loss: 0.8348 - val_accuracy: 0.7750\n",
            "Epoch 71/100\n",
            "32/32 [==============================] - 0s 5ms/step - loss: 0.2377 - accuracy: 0.9094 - val_loss: 0.7073 - val_accuracy: 0.8250\n",
            "Epoch 72/100\n",
            "32/32 [==============================] - 0s 5ms/step - loss: 0.2870 - accuracy: 0.8869 - val_loss: 1.9550 - val_accuracy: 0.3875\n",
            "Epoch 73/100\n",
            "32/32 [==============================] - 0s 5ms/step - loss: 1.1866 - accuracy: 0.5509 - val_loss: 0.6633 - val_accuracy: 0.7875\n",
            "Epoch 74/100\n",
            "32/32 [==============================] - 0s 5ms/step - loss: 0.4824 - accuracy: 0.8186 - val_loss: 0.7751 - val_accuracy: 0.7500\n",
            "Epoch 75/100\n",
            "32/32 [==============================] - 0s 5ms/step - loss: 0.4584 - accuracy: 0.7992 - val_loss: 0.5685 - val_accuracy: 0.8125\n",
            "Epoch 76/100\n",
            "32/32 [==============================] - 0s 6ms/step - loss: 0.3498 - accuracy: 0.8518 - val_loss: 0.5707 - val_accuracy: 0.7750\n",
            "Epoch 77/100\n",
            "32/32 [==============================] - 0s 5ms/step - loss: 0.3468 - accuracy: 0.8539 - val_loss: 1.0340 - val_accuracy: 0.4500\n",
            "Epoch 78/100\n",
            "32/32 [==============================] - 0s 6ms/step - loss: 0.7292 - accuracy: 0.6601 - val_loss: 0.8087 - val_accuracy: 0.7000\n",
            "Epoch 79/100\n",
            "32/32 [==============================] - 0s 5ms/step - loss: 0.4346 - accuracy: 0.8098 - val_loss: 0.6848 - val_accuracy: 0.7750\n",
            "Epoch 80/100\n",
            "32/32 [==============================] - 0s 5ms/step - loss: 0.2696 - accuracy: 0.8980 - val_loss: 0.8059 - val_accuracy: 0.7750\n",
            "Epoch 81/100\n",
            "32/32 [==============================] - 0s 5ms/step - loss: 0.4622 - accuracy: 0.7930 - val_loss: 0.6653 - val_accuracy: 0.6500\n",
            "Epoch 82/100\n",
            "32/32 [==============================] - 0s 5ms/step - loss: 0.3610 - accuracy: 0.8579 - val_loss: 0.8742 - val_accuracy: 0.7375\n",
            "Epoch 83/100\n",
            "32/32 [==============================] - 0s 5ms/step - loss: 0.5264 - accuracy: 0.7881 - val_loss: 0.6066 - val_accuracy: 0.8000\n",
            "Epoch 84/100\n",
            "32/32 [==============================] - 0s 6ms/step - loss: 0.4076 - accuracy: 0.8100 - val_loss: 0.5925 - val_accuracy: 0.8375\n",
            "Epoch 85/100\n",
            "32/32 [==============================] - 0s 5ms/step - loss: 0.3049 - accuracy: 0.8488 - val_loss: 0.6203 - val_accuracy: 0.8250\n",
            "Epoch 86/100\n",
            "32/32 [==============================] - 0s 5ms/step - loss: 0.3367 - accuracy: 0.8544 - val_loss: 0.5557 - val_accuracy: 0.8750\n",
            "Epoch 87/100\n",
            "32/32 [==============================] - 0s 5ms/step - loss: 0.3674 - accuracy: 0.8352 - val_loss: 0.5316 - val_accuracy: 0.8125\n",
            "Epoch 88/100\n",
            "32/32 [==============================] - 0s 5ms/step - loss: 0.3656 - accuracy: 0.8327 - val_loss: 0.5802 - val_accuracy: 0.8125\n",
            "Epoch 89/100\n",
            "32/32 [==============================] - 0s 5ms/step - loss: 0.4328 - accuracy: 0.8617 - val_loss: 0.6082 - val_accuracy: 0.8375\n",
            "Epoch 90/100\n",
            "32/32 [==============================] - 0s 6ms/step - loss: 0.3239 - accuracy: 0.8639 - val_loss: 1.0274 - val_accuracy: 0.7000\n",
            "Epoch 91/100\n",
            "32/32 [==============================] - 0s 5ms/step - loss: 0.3817 - accuracy: 0.8305 - val_loss: 0.7252 - val_accuracy: 0.8250\n",
            "Epoch 92/100\n",
            "32/32 [==============================] - 0s 5ms/step - loss: 0.3254 - accuracy: 0.8863 - val_loss: 0.5918 - val_accuracy: 0.8250\n",
            "Epoch 93/100\n",
            "32/32 [==============================] - 0s 5ms/step - loss: 0.2754 - accuracy: 0.8757 - val_loss: 0.6271 - val_accuracy: 0.8500\n",
            "Epoch 94/100\n",
            "32/32 [==============================] - 0s 5ms/step - loss: 0.2395 - accuracy: 0.8976 - val_loss: 0.7332 - val_accuracy: 0.8250\n",
            "Epoch 95/100\n",
            "32/32 [==============================] - 0s 5ms/step - loss: 0.3676 - accuracy: 0.8458 - val_loss: 0.5769 - val_accuracy: 0.8250\n",
            "Epoch 96/100\n",
            "32/32 [==============================] - 0s 5ms/step - loss: 0.2676 - accuracy: 0.8800 - val_loss: 0.5963 - val_accuracy: 0.8250\n",
            "Epoch 97/100\n",
            "32/32 [==============================] - 0s 5ms/step - loss: 0.2080 - accuracy: 0.9205 - val_loss: 0.5774 - val_accuracy: 0.8375\n",
            "Epoch 98/100\n",
            "32/32 [==============================] - 0s 5ms/step - loss: 0.3673 - accuracy: 0.8441 - val_loss: 1.2865 - val_accuracy: 0.6125\n",
            "Epoch 99/100\n",
            "32/32 [==============================] - 0s 5ms/step - loss: 0.5867 - accuracy: 0.8035 - val_loss: 0.5719 - val_accuracy: 0.8250\n",
            "Epoch 100/100\n",
            "32/32 [==============================] - 0s 10ms/step - loss: 0.2525 - accuracy: 0.8866 - val_loss: 0.6044 - val_accuracy: 0.8250\n"
          ],
          "name": "stdout"
        },
        {
          "output_type": "execute_result",
          "data": {
            "text/plain": [
              "<tensorflow.python.keras.callbacks.History at 0x7f13a0f431d0>"
            ]
          },
          "metadata": {
            "tags": []
          },
          "execution_count": 102
        }
      ]
    },
    {
      "cell_type": "code",
      "metadata": {
        "id": "GJxnLdHQge3c"
      },
      "source": [
        "predictions = model.predict(X_test)"
      ],
      "execution_count": null,
      "outputs": []
    },
    {
      "cell_type": "code",
      "metadata": {
        "colab": {
          "base_uri": "https://localhost:8080/",
          "height": 311
        },
        "id": "xbx9cDmDg38O",
        "outputId": "faae356a-3654-4160-9e14-444ba88a2f74"
      },
      "source": [
        "cm = tf.math.confusion_matrix(labels=tf.argmax(y_test,1), predictions=tf.argmax(predictions,1))\r\n",
        "axis_labels = ['squat', 'jump','walk','run','other']\r\n",
        "figure = plt.figure(figsize=(6,4))\r\n",
        "sns.heatmap(cm, annot=True, cmap=plt.cm.Blues, xticklabels=axis_labels, yticklabels=axis_labels)\r\n",
        "plt.ylim(len(cm),0,0)\r\n",
        "plt.tight_layout()\r\n",
        "plt.ylabel('True label')\r\n",
        "plt.xlabel('predicted label')\r\n",
        "plt.show()"
      ],
      "execution_count": null,
      "outputs": [
        {
          "output_type": "display_data",
          "data": {
            "image/png": "[encoded data removed]",
            "text/plain": [
              "<Figure size 432x288 with 2 Axes>"
            ]
          },
          "metadata": {
            "tags": [],
            "needs_background": "light"
          }
        }
      ]
    }
  ]
}