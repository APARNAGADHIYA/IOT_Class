{
  "nbformat": 4,
  "nbformat_minor": 0,
  "metadata": {
    "colab": {
      "name": "Gesture_Classifier.ipynb",
      "provenance": [],
      "collapsed_sections": []
    },
    "kernelspec": {
      "name": "python3",
      "display_name": "Python 3"
    }
  },
  "cells": [
    {
      "cell_type": "code",
      "metadata": {
        "id": "qadVeGUapHOR"
      },
      "source": [
        "import tensorflow as tf\r\n",
        "import numpy as np\r\n",
        "import pandas as pd\r\n",
        "from matplotlib import pyplot as plt\r\n",
        "import seaborn as sns\r\n",
        "from sklearn.model_selection import train_test_split"
      ],
      "execution_count": 1,
      "outputs": []
    },
    {
      "cell_type": "code",
      "metadata": {
        "id": "ZnLzs2lZFHSB"
      },
      "source": [
        ""
      ],
      "execution_count": 1,
      "outputs": []
    },
    {
      "cell_type": "code",
      "metadata": {
        "colab": {
          "base_uri": "https://localhost:8080/"
        },
        "id": "S3MoCmbyFLzM",
        "outputId": "c5526fd7-41e5-42d9-9e27-2b0779a58b9a"
      },
      "source": [
        "from google.colab import drive\n",
        "drive.mount('/content/drive')"
      ],
      "execution_count": 3,
      "outputs": [
        {
          "output_type": "stream",
          "text": [
            "Mounted at /content/drive\n"
          ],
          "name": "stdout"
        }
      ]
    },
    {
      "cell_type": "code",
      "metadata": {
        "id": "TgYHlrPYp5f6"
      },
      "source": [
        "jump =pd.read_csv(\"/content/drive/MyDrive/Tiny_Gesture-main/data/jump_set.csv\")\r\n",
        "run =pd.read_csv(\"/content/drive/MyDrive/Tiny_Gesture-main/data/run_set.csv\")\r\n",
        "squat =pd.read_csv(\"/content/drive/MyDrive/Tiny_Gesture-main/data/squat_set.csv\")\r\n",
        "walk =pd.read_csv(\"/content/drive/MyDrive/Tiny_Gesture-main/data/walk_set.csv\")\r\n",
        "other =pd.read_csv(\"/content/drive/MyDrive/Tiny_Gesture-main/data/other_set.csv\")\r\n"
      ],
      "execution_count": 4,
      "outputs": []
    },
    {
      "cell_type": "code",
      "metadata": {
        "id": "SLpBXxCvsZxG"
      },
      "source": [
        "jump.shape"
      ],
      "execution_count": null,
      "outputs": []
    },
    {
      "cell_type": "code",
      "metadata": {
        "id": "Ii2sVTdfshSc"
      },
      "source": [
        "run.shape"
      ],
      "execution_count": null,
      "outputs": []
    },
    {
      "cell_type": "code",
      "metadata": {
        "id": "BVk2hjRQtpUZ"
      },
      "source": [
        "GESTURES=[\"squat_set\",\"jump_set\",\"walk_set\",\"run_set\",\"other_set\"]"
      ],
      "execution_count": null,
      "outputs": []
    },
    {
      "cell_type": "code",
      "metadata": {
        "id": "dPTnV14LuL7y"
      },
      "source": [
        "SAMPLES_PER_GESTURE=119\r\n",
        "NUM_GESTURES =len(GESTURES)"
      ],
      "execution_count": null,
      "outputs": []
    },
    {
      "cell_type": "code",
      "metadata": {
        "id": "Qp7UpxZOIqPm"
      },
      "source": [
        "ONE_HOT_ENCODED_GESTURES = np.eye(NUM_GESTURES)\r\n",
        "dft=[jump,run,squat,walk,other]\r\n",
        "inputs =[]\r\n",
        "outputs =[]"
      ],
      "execution_count": null,
      "outputs": []
    },
    {
      "cell_type": "code",
      "metadata": {
        "id": "1lPSes4aKI5r"
      },
      "source": [
        "#Read each csv file and push an input and output\r\n",
        "for gesture_index in range(NUM_GESTURES):\r\n",
        "  gesture=GESTURES[gesture_index]\r\n",
        "  print(\"Processing index\",{gesture_index},\"for gesture\",{gesture},\".\")\r\n",
        "  output=ONE_HOT_ENCODED_GESTURES[gesture_index]\r\n",
        "  print(output)\r\n",
        "  df=dft[gesture_index]\r\n",
        "\r\n",
        "  # Calculate the number of gesture recorings in the file\r\n",
        "  num_recordings= int(df.shape[0]/SAMPLES_PER_GESTURE)\r\n",
        "  print(\"\\t There are\",{num_recordings}, \"recordings of the\",{gesture},\"gesture.\")\r\n",
        "\r\n",
        "  for i in range (num_recordings):\r\n",
        "    tensor = []\r\n",
        "    for j in range(SAMPLES_PER_GESTURE):\r\n",
        "      index = i*SAMPLES_PER_GESTURE + j\r\n",
        "      # Normalise the input data between 0 to 1\r\n",
        "      # Acceleration is betwwen: -4 to +4\r\n",
        "      # Gyroscope is between: -2000 to +2000\r\n",
        "      tensor += [(df['aX'][index] + 4) / 8,\r\n",
        "                (df['aY'][index] + 4) / 8,\r\n",
        "                (df['aZ'][index] + 4) / 8,\r\n",
        "                (df['gX'][index] + 2000) / 4000,\r\n",
        "                (df['gY'][index] + 2000) / 4000,\r\n",
        "                (df['gZ'][index] + 2000) / 4000\r\n",
        "      ]\r\n",
        "\r\n",
        "    inputs.append(tensor)\r\n",
        "    outputs.append(output)  \r\n",
        "# convert  the list to numpy array\r\n",
        "inputs = np.array(inputs) \r\n",
        "outputs = np.array(outputs)\r\n",
        "\r\n",
        "print(\"Data Set Parsing and Preparation Complete\")"
      ],
      "execution_count": null,
      "outputs": []
    },
    {
      "cell_type": "code",
      "metadata": {
        "id": "cpX8oKzQbziB"
      },
      "source": [
        "input_shape = inputs[0].shape"
      ],
      "execution_count": null,
      "outputs": []
    },
    {
      "cell_type": "code",
      "metadata": {
        "id": "DMmOMV3JcDdg"
      },
      "source": [
        "X_train, X_test, y_train, y_test = train_test_split(inputs, outputs, test_size=0.2, random_state=42)"
      ],
      "execution_count": null,
      "outputs": []
    },
    {
      "cell_type": "code",
      "metadata": {
        "id": "zhz3sYwRckbf"
      },
      "source": [
        "model = tf.keras.Sequential(\r\n",
        "    [\r\n",
        "     tf.keras.layers.Dense(512,input_shape=input_shape, activation=\"relu\"),\r\n",
        "     tf.keras.layers.Dense(256, activation=\"relu\"),\r\n",
        "     tf.keras.layers.Dropout(.1),\r\n",
        "     tf.keras.layers.Dense(128, activation=\"relu\"),\r\n",
        "     tf.keras.layers.Dense(64, activation=\"relu\"),\r\n",
        "     tf.keras.layers.Dropout(.1),\r\n",
        "     tf.keras.layers.Flatten(),\r\n",
        "     tf.keras.layers.Dense(5,activation='sigmoid')\r\n",
        "                             \r\n",
        "])"
      ],
      "execution_count": null,
      "outputs": []
    },
    {
      "cell_type": "code",
      "metadata": {
        "id": "zwP38fHoek3v"
      },
      "source": [
        "model.compile(optimizer=\"adam\",\r\n",
        "              loss= 'categorical_crossentropy',\r\n",
        "              metrics =['accuracy'])"
      ],
      "execution_count": null,
      "outputs": []
    },
    {
      "cell_type": "code",
      "metadata": {
        "id": "8_NHH6MufQdl"
      },
      "source": [
        "model.summary()"
      ],
      "execution_count": null,
      "outputs": []
    },
    {
      "cell_type": "code",
      "metadata": {
        "id": "77DroAFbfluo"
      },
      "source": [
        "model.fit(X_train, y_train, \r\n",
        "          epochs= 100, \r\n",
        "          validation_split= 0.2, \r\n",
        "          batch_size= 10, \r\n",
        "          verbose=True)"
      ],
      "execution_count": null,
      "outputs": []
    },
    {
      "cell_type": "code",
      "metadata": {
        "id": "GJxnLdHQge3c"
      },
      "source": [
        "predictions = model.predict(X_test)"
      ],
      "execution_count": null,
      "outputs": []
    },
    {
      "cell_type": "code",
      "metadata": {
        "id": "xbx9cDmDg38O"
      },
      "source": [
        "cm = tf.math.confusion_matrix(labels=tf.argmax(y_test,1), predictions=tf.argmax(predictions,1))\r\n",
        "axis_labels = ['squat', 'jump','walk','run','other']\r\n",
        "figure = plt.figure(figsize=(6,4))\r\n",
        "sns.heatmap(cm, annot=True, cmap=plt.cm.Blues, xticklabels=axis_labels, yticklabels=axis_labels)\r\n",
        "plt.ylim(len(cm),0,0)\r\n",
        "plt.tight_layout()\r\n",
        "plt.ylabel('True label')\r\n",
        "plt.xlabel('predicted label')\r\n",
        "plt.show()"
      ],
      "execution_count": null,
      "outputs": []
    }
  ]
}