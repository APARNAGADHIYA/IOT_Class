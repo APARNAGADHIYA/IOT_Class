{
  "nbformat": 4,
  "nbformat_minor": 0,
  "metadata": {
    "colab": {
      "name": "Gesture_Classifier.ipynb",
      "provenance": [],
      "collapsed_sections": []
    },
    "kernelspec": {
      "name": "python3",
      "display_name": "Python 3"
    }
  },
  "cells": [
    {
      "cell_type": "code",
      "metadata": {
        "id": "qadVeGUapHOR"
      },
      "source": [
        "import tensorflow as tf\r\n",
        "import numpy as np\r\n",
        "import pandas as pd\r\n",
        "from matplotlib import pyplot as plt\r\n",
        "import seaborn as sns\r\n",
        "from sklearn.model_selection import train_test_split"
      ],
      "execution_count": 4,
      "outputs": []
    },
    {
      "cell_type": "code",
      "metadata": {
        "id": "ZnLzs2lZFHSB"
      },
      "source": [
        ""
      ],
      "execution_count": null,
      "outputs": []
    },
    {
      "cell_type": "code",
      "metadata": {
        "colab": {
          "base_uri": "https://localhost:8080/"
        },
        "id": "S3MoCmbyFLzM",
        "outputId": "530d93dc-df19-4200-90bf-3aafa15d2639"
      },
      "source": [
        "from google.colab import drive\n",
        "drive.mount('/content/drive')"
      ],
      "execution_count": 7,
      "outputs": [
        {
          "output_type": "stream",
          "text": [
            "Drive already mounted at /content/drive; to attempt to forcibly remount, call drive.mount(\"/content/drive\", force_remount=True).\n"
          ],
          "name": "stdout"
        }
      ]
    },
    {
      "cell_type": "code",
      "metadata": {
        "id": "TgYHlrPYp5f6"
      },
      "source": [
        "jump =pd.read_csv(\"/content/drive/MyDrive/Tiny_Gesture-main/data/jump_set.csv\")\r\n",
        "run =pd.read_csv(\"/content/drive/MyDrive/Tiny_Gesture-main/data/run_set.csv\")\r\n",
        "squat =pd.read_csv(\"/content/drive/MyDrive/Tiny_Gesture-main/data/squat_set.csv\")\r\n",
        "walk =pd.read_csv(\"/content/drive/MyDrive/Tiny_Gesture-main/data/walk_set.csv\")\r\n",
        "other =pd.read_csv(\"/content/drive/MyDrive/Tiny_Gesture-main/data/other_set.csv\")\r\n"
      ],
      "execution_count": 9,
      "outputs": []
    },
    {
      "cell_type": "code",
      "metadata": {
        "colab": {
          "base_uri": "https://localhost:8080/"
        },
        "id": "SLpBXxCvsZxG",
        "outputId": "c6b327a8-d6fe-4783-8984-d1f654415aaf"
      },
      "source": [
        "jump.shape"
      ],
      "execution_count": 10,
      "outputs": [
        {
          "output_type": "execute_result",
          "data": {
            "text/plain": [
              "(11900, 6)"
            ]
          },
          "metadata": {
            "tags": []
          },
          "execution_count": 10
        }
      ]
    },
    {
      "cell_type": "code",
      "metadata": {
        "colab": {
          "base_uri": "https://localhost:8080/"
        },
        "id": "Ii2sVTdfshSc",
        "outputId": "1a4a46c3-d86a-4338-9b66-da83105d7072"
      },
      "source": [
        "run.shape"
      ],
      "execution_count": 11,
      "outputs": [
        {
          "output_type": "execute_result",
          "data": {
            "text/plain": [
              "(11900, 6)"
            ]
          },
          "metadata": {
            "tags": []
          },
          "execution_count": 11
        }
      ]
    },
    {
      "cell_type": "code",
      "metadata": {
        "id": "BVk2hjRQtpUZ"
      },
      "source": [
        "GESTURES=[\"squat_set\",\"jump_set\",\"walk_set\",\"run_set\",\"other_set\"]"
      ],
      "execution_count": 12,
      "outputs": []
    },
    {
      "cell_type": "code",
      "metadata": {
        "id": "dPTnV14LuL7y"
      },
      "source": [
        "SAMPLES_PER_GESTURE=119\r\n",
        "NUM_GESTURES =len(GESTURES)"
      ],
      "execution_count": 13,
      "outputs": []
    },
    {
      "cell_type": "code",
      "metadata": {
        "id": "Qp7UpxZOIqPm"
      },
      "source": [
        "ONE_HOT_ENCODED_GESTURES = np.eye(NUM_GESTURES)\r\n",
        "dft=[jump,run,squat,walk,other]\r\n",
        "inputs =[]\r\n",
        "outputs =[]"
      ],
      "execution_count": 32,
      "outputs": []
    },
    {
      "cell_type": "code",
      "metadata": {
        "colab": {
          "base_uri": "https://localhost:8080/"
        },
        "id": "1lPSes4aKI5r",
        "outputId": "d6532171-1887-471c-edb2-fd01d4e2c275"
      },
      "source": [
        "#Read each csv file and push an input and output\r\n",
        "for gesture_index in range(NUM_GESTURES):\r\n",
        "  gesture=GESTURES[gesture_index]\r\n",
        "  print(\"Processing index\",{gesture_index},\"for gesture\",{gesture},\".\")\r\n",
        "  output=ONE_HOT_ENCODED_GESTURES[gesture_index]\r\n",
        "  print(output)\r\n",
        "  df=dft[gesture_index]\r\n",
        "\r\n",
        "  # Calculate the number of gesture recorings in the file\r\n",
        "  num_recordings= int(df.shape[0]/SAMPLES_PER_GESTURE)\r\n",
        "  print(\"\\t There are\",{num_recordings}, \"recordings of the\",{gesture},\"gesture.\")\r\n",
        "\r\n",
        "  for i in range (num_recordings):\r\n",
        "    tensor = []\r\n",
        "    for j in range(SAMPLES_PER_GESTURE):\r\n",
        "      index = i*SAMPLES_PER_GESTURE + j\r\n",
        "      # Normalise the input data between 0 to 1\r\n",
        "      # Acceleration is betwwen: -4 to +4\r\n",
        "      # Gyroscope is between: -2000 to +2000\r\n",
        "      tensor += [(df['aX'][index] + 4) / 8,\r\n",
        "                (df['aY'][index] + 4) / 8,\r\n",
        "                (df['aZ'][index] + 4) / 8,\r\n",
        "                (df['gX'][index] + 2000) / 4000,\r\n",
        "                (df['gY'][index] + 2000) / 4000,\r\n",
        "                (df['gZ'][index] + 2000) / 4000\r\n",
        "      ]\r\n",
        "\r\n",
        "    inputs.append(tensor)\r\n",
        "    outputs.append(output)  \r\n",
        "# convert  the list to numpy array\r\n",
        "inputs = np.array(inputs) \r\n",
        "outputs = np.array(outputs)\r\n",
        "\r\n",
        "print(\"Data Set Parsing and Preparation Complete\")"
      ],
      "execution_count": 33,
      "outputs": [
        {
          "output_type": "stream",
          "text": [
            "Processing index {0} for gesture {'squat_set'} .\n",
            "[1. 0. 0. 0. 0.]\n",
            "\t There are {100} recordings of the {'squat_set'} gesture.\n",
            "Processing index {1} for gesture {'jump_set'} .\n",
            "[0. 1. 0. 0. 0.]\n",
            "\t There are {100} recordings of the {'jump_set'} gesture.\n",
            "Processing index {2} for gesture {'walk_set'} .\n",
            "[0. 0. 1. 0. 0.]\n",
            "\t There are {100} recordings of the {'walk_set'} gesture.\n",
            "Processing index {3} for gesture {'run_set'} .\n",
            "[0. 0. 0. 1. 0.]\n",
            "\t There are {100} recordings of the {'run_set'} gesture.\n",
            "Processing index {4} for gesture {'other_set'} .\n",
            "[0. 0. 0. 0. 1.]\n",
            "\t There are {100} recordings of the {'other_set'} gesture.\n",
            "Data Set Parsing and Preparation Complete\n"
          ],
          "name": "stdout"
        }
      ]
    },
    {
      "cell_type": "code",
      "metadata": {
        "id": "cpX8oKzQbziB"
      },
      "source": [
        "input_shape = inputs[0].shape"
      ],
      "execution_count": 36,
      "outputs": []
    },
    {
      "cell_type": "code",
      "metadata": {
        "id": "DMmOMV3JcDdg"
      },
      "source": [
        "X_train, X_test, y_train, y_test = train_test_split(inputs, outputs, test_size=0.2, random_state=42)"
      ],
      "execution_count": 37,
      "outputs": []
    },
    {
      "cell_type": "code",
      "metadata": {
        "id": "zhz3sYwRckbf"
      },
      "source": [
        "model = tf.keras.Sequential(\r\n",
        "    [\r\n",
        "     tf.keras.layers.Dense(512,input_shape=input_shape, activation=\"relu\"),\r\n",
        "     tf.keras.layers.Dense(256, activation=\"relu\"),\r\n",
        "     tf.keras.layers.Dropout(.1),\r\n",
        "     tf.keras.layers.Dense(128, activation=\"relu\"),\r\n",
        "     tf.keras.layers.Dense(64, activation=\"relu\"),\r\n",
        "     tf.keras.layers.Dropout(.1),\r\n",
        "     tf.keras.layers.Flatten(),\r\n",
        "     tf.keras.layers.Dense(5,activation='sigmoid')\r\n",
        "                             \r\n",
        "])"
      ],
      "execution_count": 38,
      "outputs": []
    },
    {
      "cell_type": "code",
      "metadata": {
        "id": "zwP38fHoek3v"
      },
      "source": [
        "model.compile(optimizer=\"adam\",\r\n",
        "              loss= 'categorical_crossentropy',\r\n",
        "              metrics =['accuracy'])"
      ],
      "execution_count": 39,
      "outputs": []
    },
    {
      "cell_type": "code",
      "metadata": {
        "colab": {
          "base_uri": "https://localhost:8080/"
        },
        "id": "8_NHH6MufQdl",
        "outputId": "11261948-598d-414c-dcee-bacc5029b715"
      },
      "source": [
        "model.summary()"
      ],
      "execution_count": 40,
      "outputs": [
        {
          "output_type": "stream",
          "text": [
            "Model: \"sequential\"\n",
            "_________________________________________________________________\n",
            "Layer (type)                 Output Shape              Param #   \n",
            "=================================================================\n",
            "dense (Dense)                (None, 512)               366080    \n",
            "_________________________________________________________________\n",
            "dense_1 (Dense)              (None, 256)               131328    \n",
            "_________________________________________________________________\n",
            "dropout (Dropout)            (None, 256)               0         \n",
            "_________________________________________________________________\n",
            "dense_2 (Dense)              (None, 128)               32896     \n",
            "_________________________________________________________________\n",
            "dense_3 (Dense)              (None, 64)                8256      \n",
            "_________________________________________________________________\n",
            "dropout_1 (Dropout)          (None, 64)                0         \n",
            "_________________________________________________________________\n",
            "flatten (Flatten)            (None, 64)                0         \n",
            "_________________________________________________________________\n",
            "dense_4 (Dense)              (None, 5)                 325       \n",
            "=================================================================\n",
            "Total params: 538,885\n",
            "Trainable params: 538,885\n",
            "Non-trainable params: 0\n",
            "_________________________________________________________________\n"
          ],
          "name": "stdout"
        }
      ]
    },
    {
      "cell_type": "code",
      "metadata": {
        "colab": {
          "base_uri": "https://localhost:8080/"
        },
        "id": "77DroAFbfluo",
        "outputId": "9efc9f70-94fa-4199-cae2-2938cc7167dc"
      },
      "source": [
        "model.fit(X_train, y_train, \r\n",
        "          epochs= 100, \r\n",
        "          validation_split= 0.2, \r\n",
        "          batch_size= 10, \r\n",
        "          verbose=True)"
      ],
      "execution_count": 41,
      "outputs": [
        {
          "output_type": "stream",
          "text": [
            "Epoch 1/100\n",
            "32/32 [==============================] - 1s 12ms/step - loss: 1.6800 - accuracy: 0.2506 - val_loss: 1.7484 - val_accuracy: 0.1875\n",
            "Epoch 2/100\n",
            "32/32 [==============================] - 0s 5ms/step - loss: 1.6242 - accuracy: 0.2737 - val_loss: 1.6195 - val_accuracy: 0.1625\n",
            "Epoch 3/100\n",
            "32/32 [==============================] - 0s 5ms/step - loss: 1.6068 - accuracy: 0.2486 - val_loss: 1.6037 - val_accuracy: 0.3125\n",
            "Epoch 4/100\n",
            "32/32 [==============================] - 0s 5ms/step - loss: 1.5979 - accuracy: 0.2380 - val_loss: 1.6014 - val_accuracy: 0.1625\n",
            "Epoch 5/100\n",
            "32/32 [==============================] - 0s 6ms/step - loss: 1.5942 - accuracy: 0.2680 - val_loss: 1.6063 - val_accuracy: 0.2125\n",
            "Epoch 6/100\n",
            "32/32 [==============================] - 0s 5ms/step - loss: 1.5856 - accuracy: 0.1962 - val_loss: 1.5705 - val_accuracy: 0.2125\n",
            "Epoch 7/100\n",
            "32/32 [==============================] - 0s 5ms/step - loss: 1.5777 - accuracy: 0.2254 - val_loss: 1.5957 - val_accuracy: 0.1625\n",
            "Epoch 8/100\n",
            "32/32 [==============================] - 0s 5ms/step - loss: 1.6154 - accuracy: 0.2098 - val_loss: 1.5869 - val_accuracy: 0.2250\n",
            "Epoch 9/100\n",
            "32/32 [==============================] - 0s 5ms/step - loss: 1.5617 - accuracy: 0.3395 - val_loss: 1.4210 - val_accuracy: 0.3000\n",
            "Epoch 10/100\n",
            "32/32 [==============================] - 0s 5ms/step - loss: 1.5013 - accuracy: 0.2982 - val_loss: 1.3486 - val_accuracy: 0.3625\n",
            "Epoch 11/100\n",
            "32/32 [==============================] - 0s 5ms/step - loss: 1.3688 - accuracy: 0.4449 - val_loss: 1.2438 - val_accuracy: 0.4125\n",
            "Epoch 12/100\n",
            "32/32 [==============================] - 0s 5ms/step - loss: 1.3543 - accuracy: 0.3886 - val_loss: 1.2286 - val_accuracy: 0.4000\n",
            "Epoch 13/100\n",
            "32/32 [==============================] - 0s 6ms/step - loss: 1.2457 - accuracy: 0.5014 - val_loss: 1.2755 - val_accuracy: 0.3625\n",
            "Epoch 14/100\n",
            "32/32 [==============================] - 0s 5ms/step - loss: 1.3772 - accuracy: 0.3731 - val_loss: 1.2965 - val_accuracy: 0.3625\n",
            "Epoch 15/100\n",
            "32/32 [==============================] - 0s 5ms/step - loss: 1.3901 - accuracy: 0.3707 - val_loss: 1.2348 - val_accuracy: 0.3875\n",
            "Epoch 16/100\n",
            "32/32 [==============================] - 0s 5ms/step - loss: 1.2410 - accuracy: 0.5164 - val_loss: 1.2187 - val_accuracy: 0.3750\n",
            "Epoch 17/100\n",
            "32/32 [==============================] - 0s 6ms/step - loss: 1.0800 - accuracy: 0.5444 - val_loss: 0.9599 - val_accuracy: 0.5750\n",
            "Epoch 18/100\n",
            "32/32 [==============================] - 0s 5ms/step - loss: 1.1316 - accuracy: 0.4671 - val_loss: 1.5251 - val_accuracy: 0.3375\n",
            "Epoch 19/100\n",
            "32/32 [==============================] - 0s 5ms/step - loss: 1.1848 - accuracy: 0.5146 - val_loss: 0.9324 - val_accuracy: 0.5375\n",
            "Epoch 20/100\n",
            "32/32 [==============================] - 0s 6ms/step - loss: 0.9680 - accuracy: 0.5694 - val_loss: 1.0101 - val_accuracy: 0.5000\n",
            "Epoch 21/100\n",
            "32/32 [==============================] - 0s 5ms/step - loss: 0.9522 - accuracy: 0.5708 - val_loss: 0.9752 - val_accuracy: 0.5000\n",
            "Epoch 22/100\n",
            "32/32 [==============================] - 0s 5ms/step - loss: 1.1459 - accuracy: 0.5271 - val_loss: 0.9056 - val_accuracy: 0.6125\n",
            "Epoch 23/100\n",
            "32/32 [==============================] - 0s 10ms/step - loss: 0.8818 - accuracy: 0.6509 - val_loss: 0.8781 - val_accuracy: 0.5375\n",
            "Epoch 24/100\n",
            "32/32 [==============================] - 0s 5ms/step - loss: 0.8644 - accuracy: 0.5817 - val_loss: 0.9552 - val_accuracy: 0.5000\n",
            "Epoch 25/100\n",
            "32/32 [==============================] - 0s 5ms/step - loss: 0.9552 - accuracy: 0.5639 - val_loss: 0.8996 - val_accuracy: 0.5250\n",
            "Epoch 26/100\n",
            "32/32 [==============================] - 0s 5ms/step - loss: 0.7350 - accuracy: 0.6701 - val_loss: 1.7100 - val_accuracy: 0.3750\n",
            "Epoch 27/100\n",
            "32/32 [==============================] - 0s 5ms/step - loss: 0.9833 - accuracy: 0.5646 - val_loss: 0.8959 - val_accuracy: 0.6250\n",
            "Epoch 28/100\n",
            "32/32 [==============================] - 0s 5ms/step - loss: 0.7781 - accuracy: 0.6618 - val_loss: 0.8833 - val_accuracy: 0.5250\n",
            "Epoch 29/100\n",
            "32/32 [==============================] - 0s 6ms/step - loss: 0.8094 - accuracy: 0.6556 - val_loss: 0.7832 - val_accuracy: 0.6500\n",
            "Epoch 30/100\n",
            "32/32 [==============================] - 0s 5ms/step - loss: 0.6869 - accuracy: 0.6992 - val_loss: 0.8335 - val_accuracy: 0.6625\n",
            "Epoch 31/100\n",
            "32/32 [==============================] - 0s 5ms/step - loss: 0.8074 - accuracy: 0.6009 - val_loss: 0.7610 - val_accuracy: 0.6750\n",
            "Epoch 32/100\n",
            "32/32 [==============================] - 0s 5ms/step - loss: 0.7150 - accuracy: 0.6532 - val_loss: 0.7545 - val_accuracy: 0.6625\n",
            "Epoch 33/100\n",
            "32/32 [==============================] - 0s 5ms/step - loss: 0.7692 - accuracy: 0.6475 - val_loss: 0.8477 - val_accuracy: 0.6250\n",
            "Epoch 34/100\n",
            "32/32 [==============================] - 0s 6ms/step - loss: 0.8717 - accuracy: 0.6045 - val_loss: 0.7543 - val_accuracy: 0.6750\n",
            "Epoch 35/100\n",
            "32/32 [==============================] - 0s 5ms/step - loss: 0.7539 - accuracy: 0.6797 - val_loss: 0.7191 - val_accuracy: 0.7125\n",
            "Epoch 36/100\n",
            "32/32 [==============================] - 0s 5ms/step - loss: 0.8074 - accuracy: 0.6076 - val_loss: 0.8773 - val_accuracy: 0.6750\n",
            "Epoch 37/100\n",
            "32/32 [==============================] - 0s 6ms/step - loss: 0.7614 - accuracy: 0.6565 - val_loss: 0.7154 - val_accuracy: 0.7250\n",
            "Epoch 38/100\n",
            "32/32 [==============================] - 0s 5ms/step - loss: 0.9763 - accuracy: 0.6005 - val_loss: 0.8683 - val_accuracy: 0.6500\n",
            "Epoch 39/100\n",
            "32/32 [==============================] - 0s 5ms/step - loss: 0.8011 - accuracy: 0.6003 - val_loss: 0.7783 - val_accuracy: 0.7000\n",
            "Epoch 40/100\n",
            "32/32 [==============================] - 0s 5ms/step - loss: 0.6857 - accuracy: 0.7103 - val_loss: 0.7559 - val_accuracy: 0.6500\n",
            "Epoch 41/100\n",
            "32/32 [==============================] - 0s 5ms/step - loss: 0.6816 - accuracy: 0.6749 - val_loss: 0.7415 - val_accuracy: 0.6875\n",
            "Epoch 42/100\n",
            "32/32 [==============================] - 0s 5ms/step - loss: 0.6302 - accuracy: 0.7274 - val_loss: 0.7082 - val_accuracy: 0.6875\n",
            "Epoch 43/100\n",
            "32/32 [==============================] - 0s 6ms/step - loss: 0.6687 - accuracy: 0.6923 - val_loss: 0.6975 - val_accuracy: 0.6750\n",
            "Epoch 44/100\n",
            "32/32 [==============================] - 0s 5ms/step - loss: 0.6141 - accuracy: 0.6997 - val_loss: 0.9701 - val_accuracy: 0.6000\n",
            "Epoch 45/100\n",
            "32/32 [==============================] - 0s 5ms/step - loss: 0.7830 - accuracy: 0.6438 - val_loss: 0.8094 - val_accuracy: 0.7250\n",
            "Epoch 46/100\n",
            "32/32 [==============================] - 0s 5ms/step - loss: 0.7042 - accuracy: 0.6382 - val_loss: 0.9583 - val_accuracy: 0.6000\n",
            "Epoch 47/100\n",
            "32/32 [==============================] - 0s 5ms/step - loss: 0.6522 - accuracy: 0.6931 - val_loss: 0.8938 - val_accuracy: 0.7000\n",
            "Epoch 48/100\n",
            "32/32 [==============================] - 0s 5ms/step - loss: 0.5823 - accuracy: 0.7051 - val_loss: 0.7497 - val_accuracy: 0.6875\n",
            "Epoch 49/100\n",
            "32/32 [==============================] - 0s 5ms/step - loss: 0.5028 - accuracy: 0.7629 - val_loss: 0.8180 - val_accuracy: 0.6500\n",
            "Epoch 50/100\n",
            "32/32 [==============================] - 0s 5ms/step - loss: 0.5960 - accuracy: 0.7278 - val_loss: 1.2524 - val_accuracy: 0.5875\n",
            "Epoch 51/100\n",
            "32/32 [==============================] - 0s 6ms/step - loss: 0.6806 - accuracy: 0.6960 - val_loss: 0.6446 - val_accuracy: 0.7625\n",
            "Epoch 52/100\n",
            "32/32 [==============================] - 0s 5ms/step - loss: 0.5255 - accuracy: 0.7598 - val_loss: 0.9813 - val_accuracy: 0.7250\n",
            "Epoch 53/100\n",
            "32/32 [==============================] - 0s 5ms/step - loss: 0.6932 - accuracy: 0.6874 - val_loss: 0.7165 - val_accuracy: 0.7250\n",
            "Epoch 54/100\n",
            "32/32 [==============================] - 0s 5ms/step - loss: 0.5239 - accuracy: 0.7472 - val_loss: 0.7763 - val_accuracy: 0.7500\n",
            "Epoch 55/100\n",
            "32/32 [==============================] - 0s 5ms/step - loss: 0.5471 - accuracy: 0.7261 - val_loss: 0.6854 - val_accuracy: 0.7500\n",
            "Epoch 56/100\n",
            "32/32 [==============================] - 0s 5ms/step - loss: 0.6696 - accuracy: 0.6792 - val_loss: 0.6688 - val_accuracy: 0.7625\n",
            "Epoch 57/100\n",
            "32/32 [==============================] - 0s 6ms/step - loss: 0.5605 - accuracy: 0.7567 - val_loss: 0.8702 - val_accuracy: 0.5375\n",
            "Epoch 58/100\n",
            "32/32 [==============================] - 0s 5ms/step - loss: 0.5066 - accuracy: 0.8167 - val_loss: 0.7812 - val_accuracy: 0.7250\n",
            "Epoch 59/100\n",
            "32/32 [==============================] - 0s 5ms/step - loss: 0.5043 - accuracy: 0.7806 - val_loss: 0.7553 - val_accuracy: 0.7625\n",
            "Epoch 60/100\n",
            "32/32 [==============================] - 0s 5ms/step - loss: 0.5290 - accuracy: 0.7866 - val_loss: 0.6285 - val_accuracy: 0.7625\n",
            "Epoch 61/100\n",
            "32/32 [==============================] - 0s 5ms/step - loss: 0.4794 - accuracy: 0.8144 - val_loss: 1.2167 - val_accuracy: 0.6625\n",
            "Epoch 62/100\n",
            "32/32 [==============================] - 0s 5ms/step - loss: 0.5949 - accuracy: 0.7188 - val_loss: 0.7674 - val_accuracy: 0.7625\n",
            "Epoch 63/100\n",
            "32/32 [==============================] - 0s 6ms/step - loss: 0.5531 - accuracy: 0.7903 - val_loss: 0.7851 - val_accuracy: 0.7250\n",
            "Epoch 64/100\n",
            "32/32 [==============================] - 0s 5ms/step - loss: 0.5576 - accuracy: 0.7625 - val_loss: 0.6363 - val_accuracy: 0.8000\n",
            "Epoch 65/100\n",
            "32/32 [==============================] - 0s 6ms/step - loss: 0.6969 - accuracy: 0.7052 - val_loss: 0.6993 - val_accuracy: 0.8000\n",
            "Epoch 66/100\n",
            "32/32 [==============================] - 0s 5ms/step - loss: 0.4410 - accuracy: 0.8220 - val_loss: 1.0977 - val_accuracy: 0.6500\n",
            "Epoch 67/100\n",
            "32/32 [==============================] - 0s 5ms/step - loss: 0.6796 - accuracy: 0.7216 - val_loss: 0.6293 - val_accuracy: 0.8250\n",
            "Epoch 68/100\n",
            "32/32 [==============================] - 0s 5ms/step - loss: 0.6795 - accuracy: 0.7583 - val_loss: 0.8396 - val_accuracy: 0.7125\n",
            "Epoch 69/100\n",
            "32/32 [==============================] - 0s 5ms/step - loss: 0.4640 - accuracy: 0.7953 - val_loss: 0.7185 - val_accuracy: 0.7500\n",
            "Epoch 70/100\n",
            "32/32 [==============================] - 0s 5ms/step - loss: 0.4265 - accuracy: 0.8131 - val_loss: 1.1223 - val_accuracy: 0.7000\n",
            "Epoch 71/100\n",
            "32/32 [==============================] - 0s 5ms/step - loss: 0.4689 - accuracy: 0.8387 - val_loss: 0.6411 - val_accuracy: 0.8375\n",
            "Epoch 72/100\n",
            "32/32 [==============================] - 0s 5ms/step - loss: 0.4327 - accuracy: 0.8257 - val_loss: 0.7521 - val_accuracy: 0.7875\n",
            "Epoch 73/100\n",
            "32/32 [==============================] - 0s 5ms/step - loss: 0.3538 - accuracy: 0.8574 - val_loss: 0.7654 - val_accuracy: 0.8000\n",
            "Epoch 74/100\n",
            "32/32 [==============================] - 0s 5ms/step - loss: 0.6149 - accuracy: 0.7420 - val_loss: 2.1305 - val_accuracy: 0.3625\n",
            "Epoch 75/100\n",
            "32/32 [==============================] - 0s 9ms/step - loss: 0.8186 - accuracy: 0.6929 - val_loss: 0.6309 - val_accuracy: 0.8375\n",
            "Epoch 76/100\n",
            "32/32 [==============================] - 0s 5ms/step - loss: 0.4393 - accuracy: 0.8739 - val_loss: 0.5998 - val_accuracy: 0.8250\n",
            "Epoch 77/100\n",
            "32/32 [==============================] - 0s 5ms/step - loss: 0.3767 - accuracy: 0.8581 - val_loss: 0.8059 - val_accuracy: 0.7625\n",
            "Epoch 78/100\n",
            "32/32 [==============================] - 0s 5ms/step - loss: 0.4736 - accuracy: 0.8043 - val_loss: 0.5882 - val_accuracy: 0.8375\n",
            "Epoch 79/100\n",
            "32/32 [==============================] - 0s 6ms/step - loss: 0.4310 - accuracy: 0.8369 - val_loss: 0.9729 - val_accuracy: 0.6875\n",
            "Epoch 80/100\n",
            "32/32 [==============================] - 0s 5ms/step - loss: 0.6034 - accuracy: 0.7265 - val_loss: 0.9036 - val_accuracy: 0.7375\n",
            "Epoch 81/100\n",
            "32/32 [==============================] - 0s 5ms/step - loss: 0.3739 - accuracy: 0.8669 - val_loss: 0.6992 - val_accuracy: 0.7375\n",
            "Epoch 82/100\n",
            "32/32 [==============================] - 0s 5ms/step - loss: 0.4737 - accuracy: 0.8100 - val_loss: 0.7225 - val_accuracy: 0.8250\n",
            "Epoch 83/100\n",
            "32/32 [==============================] - 0s 5ms/step - loss: 0.4789 - accuracy: 0.8103 - val_loss: 0.6436 - val_accuracy: 0.8250\n",
            "Epoch 84/100\n",
            "32/32 [==============================] - 0s 5ms/step - loss: 0.4732 - accuracy: 0.8168 - val_loss: 0.7090 - val_accuracy: 0.8000\n",
            "Epoch 85/100\n",
            "32/32 [==============================] - 0s 5ms/step - loss: 0.4100 - accuracy: 0.8576 - val_loss: 0.6399 - val_accuracy: 0.8375\n",
            "Epoch 86/100\n",
            "32/32 [==============================] - 0s 5ms/step - loss: 0.3799 - accuracy: 0.8557 - val_loss: 2.2443 - val_accuracy: 0.4500\n",
            "Epoch 87/100\n",
            "32/32 [==============================] - 0s 5ms/step - loss: 0.5328 - accuracy: 0.7549 - val_loss: 0.6125 - val_accuracy: 0.8375\n",
            "Epoch 88/100\n",
            "32/32 [==============================] - 0s 5ms/step - loss: 0.3408 - accuracy: 0.8880 - val_loss: 0.5396 - val_accuracy: 0.8500\n",
            "Epoch 89/100\n",
            "32/32 [==============================] - 0s 5ms/step - loss: 0.2900 - accuracy: 0.9028 - val_loss: 0.6498 - val_accuracy: 0.8375\n",
            "Epoch 90/100\n",
            "32/32 [==============================] - 0s 5ms/step - loss: 0.3572 - accuracy: 0.8602 - val_loss: 1.1466 - val_accuracy: 0.6500\n",
            "Epoch 91/100\n",
            "32/32 [==============================] - 0s 5ms/step - loss: 0.7566 - accuracy: 0.7224 - val_loss: 0.7177 - val_accuracy: 0.8000\n",
            "Epoch 92/100\n",
            "32/32 [==============================] - 0s 5ms/step - loss: 0.3935 - accuracy: 0.8453 - val_loss: 0.5709 - val_accuracy: 0.8375\n",
            "Epoch 93/100\n",
            "32/32 [==============================] - 0s 5ms/step - loss: 0.3298 - accuracy: 0.8867 - val_loss: 0.5662 - val_accuracy: 0.8500\n",
            "Epoch 94/100\n",
            "32/32 [==============================] - 0s 5ms/step - loss: 0.2028 - accuracy: 0.9470 - val_loss: 1.0427 - val_accuracy: 0.7375\n",
            "Epoch 95/100\n",
            "32/32 [==============================] - 0s 5ms/step - loss: 0.3643 - accuracy: 0.8230 - val_loss: 1.1110 - val_accuracy: 0.7750\n",
            "Epoch 96/100\n",
            "32/32 [==============================] - 0s 5ms/step - loss: 0.4518 - accuracy: 0.8144 - val_loss: 0.5597 - val_accuracy: 0.8750\n",
            "Epoch 97/100\n",
            "32/32 [==============================] - 0s 5ms/step - loss: 0.2236 - accuracy: 0.9360 - val_loss: 1.3350 - val_accuracy: 0.7250\n",
            "Epoch 98/100\n",
            "32/32 [==============================] - 0s 5ms/step - loss: 0.2806 - accuracy: 0.9010 - val_loss: 0.6669 - val_accuracy: 0.7375\n",
            "Epoch 99/100\n",
            "32/32 [==============================] - 0s 5ms/step - loss: 0.9521 - accuracy: 0.6931 - val_loss: 0.9783 - val_accuracy: 0.6625\n",
            "Epoch 100/100\n",
            "32/32 [==============================] - 0s 5ms/step - loss: 0.4931 - accuracy: 0.8374 - val_loss: 0.6326 - val_accuracy: 0.8125\n"
          ],
          "name": "stdout"
        },
        {
          "output_type": "execute_result",
          "data": {
            "text/plain": [
              "<tensorflow.python.keras.callbacks.History at 0x7f13b294bbe0>"
            ]
          },
          "metadata": {
            "tags": []
          },
          "execution_count": 41
        }
      ]
    },
    {
      "cell_type": "code",
      "metadata": {
        "id": "GJxnLdHQge3c"
      },
      "source": [
        "predictions = model.predict(X_test)"
      ],
      "execution_count": 48,
      "outputs": []
    },
    {
      "cell_type": "code",
      "metadata": {
        "colab": {
          "base_uri": "https://localhost:8080/",
          "height": 311
        },
        "id": "xbx9cDmDg38O",
        "outputId": "993898c2-19c7-4b2d-e509-55269fc0d80d"
      },
      "source": [
        "cm = tf.math.confusion_matrix(labels=tf.argmax(y_test,1), predictions=tf.argmax(predictions,1))\r\n",
        "axis_labels = ['squat', 'jump','walk','run','other']\r\n",
        "figure = plt.figure(figsize=(6,4))\r\n",
        "sns.heatmap(cm, annot=True, cmap=plt.cm.Blues, xticklabels=axis_labels, yticklabels=axis_labels)\r\n",
        "plt.ylim(len(cm),0,0)\r\n",
        "plt.tight_layout()\r\n",
        "plt.ylabel('True label')\r\n",
        "plt.xlabel('predicted label')\r\n",
        "plt.show()"
      ],
      "execution_count": 49,
      "outputs": [
        {
          "output_type": "display_data",
          "data": {
            "image/png": "[encoded data removed]",
            "text/plain": [
              "<Figure size 432x288 with 2 Axes>"
            ]
          },
          "metadata": {
            "tags": [],
            "needs_background": "light"
          }
        }
      ]
    }
  ]
}
